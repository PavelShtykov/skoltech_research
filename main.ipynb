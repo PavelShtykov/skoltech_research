{
 "cells": [
  {
   "cell_type": "code",
   "execution_count": 1,
   "metadata": {},
   "outputs": [],
   "source": [
    "from transformers_fixed import AutoModelForCausalLM, AutoTokenizer\n",
    "import torch \n",
    "from sklearn.decomposition import PCA\n",
    "from sklearn.preprocessing import normalize\n",
    "import pandas as pd\n",
    "import numpy as np\n",
    "import plotly.express as px\n",
    "import matplotlib.pyplot as plt\n",
    "import seaborn as sns\n",
    "\n",
    "%load_ext autoreload\n",
    "%autoreload 2"
   ]
  },
  {
   "cell_type": "markdown",
   "metadata": {},
   "source": [
    "### Model Import"
   ]
  },
  {
   "cell_type": "code",
   "execution_count": 2,
   "metadata": {},
   "outputs": [
    {
     "data": {
      "application/vnd.jupyter.widget-view+json": {
       "model_id": "fa04447bbf6f49d8a4739c6539f26776",
       "version_major": 2,
       "version_minor": 0
      },
      "text/plain": [
       "Loading checkpoint shards:   0%|          | 0/2 [00:00<?, ?it/s]"
      ]
     },
     "metadata": {},
     "output_type": "display_data"
    },
    {
     "data": {
      "text/plain": [
       "device(type='cuda', index=0)"
      ]
     },
     "execution_count": 2,
     "metadata": {},
     "output_type": "execute_result"
    }
   ],
   "source": [
    "\n",
    "\n",
    "# model_name = \"EleutherAI/llemma_7b\"\n",
    "model_name = 'huggyllama/llama-7b'\n",
    "tokenizer = AutoTokenizer.from_pretrained(model_name)\n",
    "model = AutoModelForCausalLM.from_pretrained(model_name, device_map=\"auto\", torch_dtype=torch.float16)\n",
    "model.eval()\n",
    "\n",
    "def ret_queries(sent, model=model):\n",
    "    \"\"\"\n",
    "    return (n_layers, n_heads, emb_query)\n",
    "    \"\"\"\n",
    "    inputs = tokenizer(sent, return_tensors=\"pt\").to(\"cuda\")\n",
    "    # splitted_text = tokenizer.convert_ids_to_tokens(inputs['input_ids'][0])\n",
    "    model.forward(**inputs)\n",
    "    qk_dict = model.get_qk_dict()\n",
    "    queries = torch.stack([qk['query'] for l, qk in qk_dict.items()]).squeeze()\n",
    "\n",
    "    return queries\n",
    "\n",
    "def ret_keys(sent, model=model):\n",
    "    \"\"\"\n",
    "    return (n_layers, n_heads, emb_query)\n",
    "    \"\"\"\n",
    "    inputs = tokenizer(sent, return_tensors=\"pt\").to(\"cuda\")\n",
    "    # splitted_text = tokenizer.convert_ids_to_tokens(inputs['input_ids'][0])\n",
    "    model.forward(**inputs)\n",
    "    qk_dict = model.get_qk_dict()\n",
    "    queries = torch.stack([qk['key'] for l, qk in qk_dict.items()]).squeeze()\n",
    "\n",
    "    return queries\n",
    "\n",
    "model.device"
   ]
  },
  {
   "cell_type": "markdown",
   "metadata": {},
   "source": [
    "### Dataset preparing\n",
    "\n",
    "![](./imgs/dataset.jpg)"
   ]
  },
  {
   "cell_type": "code",
   "execution_count": 3,
   "metadata": {},
   "outputs": [],
   "source": [
    "import json\n",
    "\n",
    "with open('./squad/train-v2.0.json', 'rt') as f:\n",
    "    ds = json.load(f)"
   ]
  },
  {
   "cell_type": "code",
   "execution_count": 4,
   "metadata": {},
   "outputs": [
    {
     "data": {
      "text/html": [
       "<div>\n",
       "<style scoped>\n",
       "    .dataframe tbody tr th:only-of-type {\n",
       "        vertical-align: middle;\n",
       "    }\n",
       "\n",
       "    .dataframe tbody tr th {\n",
       "        vertical-align: top;\n",
       "    }\n",
       "\n",
       "    .dataframe thead th {\n",
       "        text-align: right;\n",
       "    }\n",
       "</style>\n",
       "<table border=\"1\" class=\"dataframe\">\n",
       "  <thead>\n",
       "    <tr style=\"text-align: right;\">\n",
       "      <th></th>\n",
       "      <th>title</th>\n",
       "      <th>context</th>\n",
       "      <th>question</th>\n",
       "      <th>answer</th>\n",
       "      <th>id</th>\n",
       "      <th>is_impossible</th>\n",
       "    </tr>\n",
       "  </thead>\n",
       "  <tbody>\n",
       "    <tr>\n",
       "      <th>0</th>\n",
       "      <td>Beyoncé</td>\n",
       "      <td>Beyoncé Giselle Knowles-Carter (/biːˈjɒnseɪ/ b...</td>\n",
       "      <td>When did Beyonce start becoming popular?</td>\n",
       "      <td>[{'text': 'in the late 1990s', 'answer_start':...</td>\n",
       "      <td>56be85543aeaaa14008c9063</td>\n",
       "      <td>False</td>\n",
       "    </tr>\n",
       "    <tr>\n",
       "      <th>1</th>\n",
       "      <td>Beyoncé</td>\n",
       "      <td>Beyoncé Giselle Knowles-Carter (/biːˈjɒnseɪ/ b...</td>\n",
       "      <td>What areas did Beyonce compete in when she was...</td>\n",
       "      <td>[{'text': 'singing and dancing', 'answer_start...</td>\n",
       "      <td>56be85543aeaaa14008c9065</td>\n",
       "      <td>False</td>\n",
       "    </tr>\n",
       "    <tr>\n",
       "      <th>2</th>\n",
       "      <td>Beyoncé</td>\n",
       "      <td>Beyoncé Giselle Knowles-Carter (/biːˈjɒnseɪ/ b...</td>\n",
       "      <td>When did Beyonce leave Destiny's Child and bec...</td>\n",
       "      <td>[{'text': '2003', 'answer_start': 526}]</td>\n",
       "      <td>56be85543aeaaa14008c9066</td>\n",
       "      <td>False</td>\n",
       "    </tr>\n",
       "    <tr>\n",
       "      <th>3</th>\n",
       "      <td>Beyoncé</td>\n",
       "      <td>Beyoncé Giselle Knowles-Carter (/biːˈjɒnseɪ/ b...</td>\n",
       "      <td>In what city and state did Beyonce  grow up?</td>\n",
       "      <td>[{'text': 'Houston, Texas', 'answer_start': 166}]</td>\n",
       "      <td>56bf6b0f3aeaaa14008c9601</td>\n",
       "      <td>False</td>\n",
       "    </tr>\n",
       "    <tr>\n",
       "      <th>4</th>\n",
       "      <td>Beyoncé</td>\n",
       "      <td>Beyoncé Giselle Knowles-Carter (/biːˈjɒnseɪ/ b...</td>\n",
       "      <td>In which decade did Beyonce become famous?</td>\n",
       "      <td>[{'text': 'late 1990s', 'answer_start': 276}]</td>\n",
       "      <td>56bf6b0f3aeaaa14008c9602</td>\n",
       "      <td>False</td>\n",
       "    </tr>\n",
       "    <tr>\n",
       "      <th>...</th>\n",
       "      <td>...</td>\n",
       "      <td>...</td>\n",
       "      <td>...</td>\n",
       "      <td>...</td>\n",
       "      <td>...</td>\n",
       "      <td>...</td>\n",
       "    </tr>\n",
       "    <tr>\n",
       "      <th>130314</th>\n",
       "      <td>Matter</td>\n",
       "      <td>The term \"matter\" is used throughout physics i...</td>\n",
       "      <td>Physics has broadly agreed on the definition o...</td>\n",
       "      <td>[]</td>\n",
       "      <td>5a7e070b70df9f001a875439</td>\n",
       "      <td>True</td>\n",
       "    </tr>\n",
       "    <tr>\n",
       "      <th>130315</th>\n",
       "      <td>Matter</td>\n",
       "      <td>The term \"matter\" is used throughout physics i...</td>\n",
       "      <td>Who coined the term partonic matter?</td>\n",
       "      <td>[]</td>\n",
       "      <td>5a7e070b70df9f001a87543a</td>\n",
       "      <td>True</td>\n",
       "    </tr>\n",
       "    <tr>\n",
       "      <th>130316</th>\n",
       "      <td>Matter</td>\n",
       "      <td>The term \"matter\" is used throughout physics i...</td>\n",
       "      <td>What is another name for anti-matter?</td>\n",
       "      <td>[]</td>\n",
       "      <td>5a7e070b70df9f001a87543b</td>\n",
       "      <td>True</td>\n",
       "    </tr>\n",
       "    <tr>\n",
       "      <th>130317</th>\n",
       "      <td>Matter</td>\n",
       "      <td>The term \"matter\" is used throughout physics i...</td>\n",
       "      <td>Matter usually does not need to be used in con...</td>\n",
       "      <td>[]</td>\n",
       "      <td>5a7e070b70df9f001a87543c</td>\n",
       "      <td>True</td>\n",
       "    </tr>\n",
       "    <tr>\n",
       "      <th>130318</th>\n",
       "      <td>Matter</td>\n",
       "      <td>The term \"matter\" is used throughout physics i...</td>\n",
       "      <td>What field of study has a variety of unusual c...</td>\n",
       "      <td>[]</td>\n",
       "      <td>5a7e070b70df9f001a87543d</td>\n",
       "      <td>True</td>\n",
       "    </tr>\n",
       "  </tbody>\n",
       "</table>\n",
       "<p>130319 rows × 6 columns</p>\n",
       "</div>"
      ],
      "text/plain": [
       "          title                                            context  \\\n",
       "0       Beyoncé  Beyoncé Giselle Knowles-Carter (/biːˈjɒnseɪ/ b...   \n",
       "1       Beyoncé  Beyoncé Giselle Knowles-Carter (/biːˈjɒnseɪ/ b...   \n",
       "2       Beyoncé  Beyoncé Giselle Knowles-Carter (/biːˈjɒnseɪ/ b...   \n",
       "3       Beyoncé  Beyoncé Giselle Knowles-Carter (/biːˈjɒnseɪ/ b...   \n",
       "4       Beyoncé  Beyoncé Giselle Knowles-Carter (/biːˈjɒnseɪ/ b...   \n",
       "...         ...                                                ...   \n",
       "130314   Matter  The term \"matter\" is used throughout physics i...   \n",
       "130315   Matter  The term \"matter\" is used throughout physics i...   \n",
       "130316   Matter  The term \"matter\" is used throughout physics i...   \n",
       "130317   Matter  The term \"matter\" is used throughout physics i...   \n",
       "130318   Matter  The term \"matter\" is used throughout physics i...   \n",
       "\n",
       "                                                 question  \\\n",
       "0                When did Beyonce start becoming popular?   \n",
       "1       What areas did Beyonce compete in when she was...   \n",
       "2       When did Beyonce leave Destiny's Child and bec...   \n",
       "3           In what city and state did Beyonce  grow up?    \n",
       "4              In which decade did Beyonce become famous?   \n",
       "...                                                   ...   \n",
       "130314  Physics has broadly agreed on the definition o...   \n",
       "130315               Who coined the term partonic matter?   \n",
       "130316              What is another name for anti-matter?   \n",
       "130317  Matter usually does not need to be used in con...   \n",
       "130318  What field of study has a variety of unusual c...   \n",
       "\n",
       "                                                   answer  \\\n",
       "0       [{'text': 'in the late 1990s', 'answer_start':...   \n",
       "1       [{'text': 'singing and dancing', 'answer_start...   \n",
       "2                 [{'text': '2003', 'answer_start': 526}]   \n",
       "3       [{'text': 'Houston, Texas', 'answer_start': 166}]   \n",
       "4           [{'text': 'late 1990s', 'answer_start': 276}]   \n",
       "...                                                   ...   \n",
       "130314                                                 []   \n",
       "130315                                                 []   \n",
       "130316                                                 []   \n",
       "130317                                                 []   \n",
       "130318                                                 []   \n",
       "\n",
       "                              id  is_impossible  \n",
       "0       56be85543aeaaa14008c9063          False  \n",
       "1       56be85543aeaaa14008c9065          False  \n",
       "2       56be85543aeaaa14008c9066          False  \n",
       "3       56bf6b0f3aeaaa14008c9601          False  \n",
       "4       56bf6b0f3aeaaa14008c9602          False  \n",
       "...                          ...            ...  \n",
       "130314  5a7e070b70df9f001a875439           True  \n",
       "130315  5a7e070b70df9f001a87543a           True  \n",
       "130316  5a7e070b70df9f001a87543b           True  \n",
       "130317  5a7e070b70df9f001a87543c           True  \n",
       "130318  5a7e070b70df9f001a87543d           True  \n",
       "\n",
       "[130319 rows x 6 columns]"
      ]
     },
     "execution_count": 4,
     "metadata": {},
     "output_type": "execute_result"
    }
   ],
   "source": [
    "# Parsing json to DataFrame\n",
    "\n",
    "res = []\n",
    "for curr in ds['data']:\n",
    "    title = curr['title']\n",
    "    for par in curr['paragraphs']:\n",
    "        context = par['context']\n",
    "        for qa in par['qas']:\n",
    "            question = qa['question']\n",
    "            id = qa['id']\n",
    "            ans = qa['answers']\n",
    "            is_imposs = qa['is_impossible']\n",
    "\n",
    "            res.append([title, context, question, ans, id, is_imposs])\n",
    "        \n",
    "df = pd.DataFrame(res, columns=['title', 'context', 'question', 'answer', 'id', 'is_impossible'])\n",
    "df"
   ]
  },
  {
   "cell_type": "code",
   "execution_count": 5,
   "metadata": {},
   "outputs": [
    {
     "data": {
      "text/plain": [
       "array([[<AxesSubplot: title={'center': 'question'}>]], dtype=object)"
      ]
     },
     "execution_count": 5,
     "metadata": {},
     "output_type": "execute_result"
    },
    {
     "data": {
      "image/png": "[encoded data removed]",
      "text/plain": [
       "<Figure size 640x480 with 1 Axes>"
      ]
     },
     "metadata": {},
     "output_type": "display_data"
    }
   ],
   "source": [
    "# Hist of number questions for one context\n",
    "\n",
    "df.groupby('context').agg({'question': 'count'}).hist(bins=20)"
   ]
  },
  {
   "cell_type": "code",
   "execution_count": 6,
   "metadata": {},
   "outputs": [
    {
     "data": {
      "text/plain": [
       "1    86821\n",
       "0    43498\n",
       "Name: answer, dtype: int64"
      ]
     },
     "execution_count": 6,
     "metadata": {},
     "output_type": "execute_result"
    }
   ],
   "source": [
    "# 1 - possible questions\n",
    "# 0 - impossible questions \n",
    "\n",
    "df['answer'].apply(lambda x: len(x)).value_counts()"
   ]
  },
  {
   "cell_type": "code",
   "execution_count": 7,
   "metadata": {},
   "outputs": [
    {
     "name": "stdout",
     "output_type": "stream",
     "text": [
      "86\n"
     ]
    },
    {
     "data": {
      "text/html": [
       "<div>\n",
       "<style scoped>\n",
       "    .dataframe tbody tr th:only-of-type {\n",
       "        vertical-align: middle;\n",
       "    }\n",
       "\n",
       "    .dataframe tbody tr th {\n",
       "        vertical-align: top;\n",
       "    }\n",
       "\n",
       "    .dataframe thead th {\n",
       "        text-align: right;\n",
       "    }\n",
       "</style>\n",
       "<table border=\"1\" class=\"dataframe\">\n",
       "  <thead>\n",
       "    <tr style=\"text-align: right;\">\n",
       "      <th></th>\n",
       "      <th>title</th>\n",
       "      <th>context</th>\n",
       "      <th>question</th>\n",
       "      <th>answer</th>\n",
       "      <th>id</th>\n",
       "      <th>is_impossible</th>\n",
       "    </tr>\n",
       "  </thead>\n",
       "  <tbody>\n",
       "    <tr>\n",
       "      <th>2375</th>\n",
       "      <td>The_Legend_of_Zelda:_Twilight_Princess</td>\n",
       "      <td>A CD containing 20 musical selections from the...</td>\n",
       "      <td>What company included the soundtrack as a rewa...</td>\n",
       "      <td>[{'text': 'GameStop', 'answer_start': 71}]</td>\n",
       "      <td>56cda64a62d2951400fa67be</td>\n",
       "      <td>False</td>\n",
       "    </tr>\n",
       "    <tr>\n",
       "      <th>2376</th>\n",
       "      <td>The_Legend_of_Zelda:_Twilight_Princess</td>\n",
       "      <td>A CD containing 20 musical selections from the...</td>\n",
       "      <td>How many tracks were recorded on the preorder CD?</td>\n",
       "      <td>[{'text': '20', 'answer_start': 16}]</td>\n",
       "      <td>56cda64a62d2951400fa67bf</td>\n",
       "      <td>False</td>\n",
       "    </tr>\n",
       "    <tr>\n",
       "      <th>2377</th>\n",
       "      <td>The_Legend_of_Zelda:_Twilight_Princess</td>\n",
       "      <td>A CD containing 20 musical selections from the...</td>\n",
       "      <td>In what areas is the content of the GameStop b...</td>\n",
       "      <td>[{'text': 'Japan, Europe, and Australia', 'ans...</td>\n",
       "      <td>56cda64a62d2951400fa67c0</td>\n",
       "      <td>False</td>\n",
       "    </tr>\n",
       "    <tr>\n",
       "      <th>2378</th>\n",
       "      <td>The_Legend_of_Zelda:_Twilight_Princess</td>\n",
       "      <td>A CD containing 20 musical selections from the...</td>\n",
       "      <td>What was included as a Gamestop preorder item?</td>\n",
       "      <td>[{'text': 'CD', 'answer_start': 2}]</td>\n",
       "      <td>56d13400e7d4791d00901fdd</td>\n",
       "      <td>False</td>\n",
       "    </tr>\n",
       "    <tr>\n",
       "      <th>2379</th>\n",
       "      <td>The_Legend_of_Zelda:_Twilight_Princess</td>\n",
       "      <td>A CD containing 20 musical selections from the...</td>\n",
       "      <td>What company included the soundtrack as a rewa...</td>\n",
       "      <td>[]</td>\n",
       "      <td>5a8dbd49df8bba001a0f9bb5</td>\n",
       "      <td>True</td>\n",
       "    </tr>\n",
       "    <tr>\n",
       "      <th>...</th>\n",
       "      <td>...</td>\n",
       "      <td>...</td>\n",
       "      <td>...</td>\n",
       "      <td>...</td>\n",
       "      <td>...</td>\n",
       "      <td>...</td>\n",
       "    </tr>\n",
       "    <tr>\n",
       "      <th>128102</th>\n",
       "      <td>Anthropology</td>\n",
       "      <td>Anthropology of development tends to view deve...</td>\n",
       "      <td>What does a lot of planned development apparen...</td>\n",
       "      <td>[{'text': 'fail', 'answer_start': 527}]</td>\n",
       "      <td>5733cd1c4776f4190066127e</td>\n",
       "      <td>False</td>\n",
       "    </tr>\n",
       "    <tr>\n",
       "      <th>128103</th>\n",
       "      <td>Anthropology</td>\n",
       "      <td>Anthropology of development tends to view deve...</td>\n",
       "      <td>What tends to view development from a positive...</td>\n",
       "      <td>[]</td>\n",
       "      <td>5ad2ee84604f3c001a3fd9ef</td>\n",
       "      <td>True</td>\n",
       "    </tr>\n",
       "    <tr>\n",
       "      <th>128104</th>\n",
       "      <td>Anthropology</td>\n",
       "      <td>Anthropology of development tends to view deve...</td>\n",
       "      <td>What field of anthropology has a goal to elevi...</td>\n",
       "      <td>[]</td>\n",
       "      <td>5ad2ee84604f3c001a3fd9f0</td>\n",
       "      <td>True</td>\n",
       "    </tr>\n",
       "    <tr>\n",
       "      <th>128105</th>\n",
       "      <td>Anthropology</td>\n",
       "      <td>Anthropology of development tends to view deve...</td>\n",
       "      <td>What looks for the connections between plans a...</td>\n",
       "      <td>[]</td>\n",
       "      <td>5ad2ee84604f3c001a3fd9f1</td>\n",
       "      <td>True</td>\n",
       "    </tr>\n",
       "    <tr>\n",
       "      <th>128106</th>\n",
       "      <td>Anthropology</td>\n",
       "      <td>Anthropology of development tends to view deve...</td>\n",
       "      <td>What type of development rarely fails?</td>\n",
       "      <td>[]</td>\n",
       "      <td>5ad2ee84604f3c001a3fd9f2</td>\n",
       "      <td>True</td>\n",
       "    </tr>\n",
       "  </tbody>\n",
       "</table>\n",
       "<p>795 rows × 6 columns</p>\n",
       "</div>"
      ],
      "text/plain": [
       "                                         title  \\\n",
       "2375    The_Legend_of_Zelda:_Twilight_Princess   \n",
       "2376    The_Legend_of_Zelda:_Twilight_Princess   \n",
       "2377    The_Legend_of_Zelda:_Twilight_Princess   \n",
       "2378    The_Legend_of_Zelda:_Twilight_Princess   \n",
       "2379    The_Legend_of_Zelda:_Twilight_Princess   \n",
       "...                                        ...   \n",
       "128102                            Anthropology   \n",
       "128103                            Anthropology   \n",
       "128104                            Anthropology   \n",
       "128105                            Anthropology   \n",
       "128106                            Anthropology   \n",
       "\n",
       "                                                  context  \\\n",
       "2375    A CD containing 20 musical selections from the...   \n",
       "2376    A CD containing 20 musical selections from the...   \n",
       "2377    A CD containing 20 musical selections from the...   \n",
       "2378    A CD containing 20 musical selections from the...   \n",
       "2379    A CD containing 20 musical selections from the...   \n",
       "...                                                   ...   \n",
       "128102  Anthropology of development tends to view deve...   \n",
       "128103  Anthropology of development tends to view deve...   \n",
       "128104  Anthropology of development tends to view deve...   \n",
       "128105  Anthropology of development tends to view deve...   \n",
       "128106  Anthropology of development tends to view deve...   \n",
       "\n",
       "                                                 question  \\\n",
       "2375    What company included the soundtrack as a rewa...   \n",
       "2376    How many tracks were recorded on the preorder CD?   \n",
       "2377    In what areas is the content of the GameStop b...   \n",
       "2378       What was included as a Gamestop preorder item?   \n",
       "2379    What company included the soundtrack as a rewa...   \n",
       "...                                                   ...   \n",
       "128102  What does a lot of planned development apparen...   \n",
       "128103  What tends to view development from a positive...   \n",
       "128104  What field of anthropology has a goal to elevi...   \n",
       "128105  What looks for the connections between plans a...   \n",
       "128106             What type of development rarely fails?   \n",
       "\n",
       "                                                   answer  \\\n",
       "2375           [{'text': 'GameStop', 'answer_start': 71}]   \n",
       "2376                 [{'text': '20', 'answer_start': 16}]   \n",
       "2377    [{'text': 'Japan, Europe, and Australia', 'ans...   \n",
       "2378                  [{'text': 'CD', 'answer_start': 2}]   \n",
       "2379                                                   []   \n",
       "...                                                   ...   \n",
       "128102            [{'text': 'fail', 'answer_start': 527}]   \n",
       "128103                                                 []   \n",
       "128104                                                 []   \n",
       "128105                                                 []   \n",
       "128106                                                 []   \n",
       "\n",
       "                              id  is_impossible  \n",
       "2375    56cda64a62d2951400fa67be          False  \n",
       "2376    56cda64a62d2951400fa67bf          False  \n",
       "2377    56cda64a62d2951400fa67c0          False  \n",
       "2378    56d13400e7d4791d00901fdd          False  \n",
       "2379    5a8dbd49df8bba001a0f9bb5           True  \n",
       "...                          ...            ...  \n",
       "128102  5733cd1c4776f4190066127e          False  \n",
       "128103  5ad2ee84604f3c001a3fd9ef           True  \n",
       "128104  5ad2ee84604f3c001a3fd9f0           True  \n",
       "128105  5ad2ee84604f3c001a3fd9f1           True  \n",
       "128106  5ad2ee84604f3c001a3fd9f2           True  \n",
       "\n",
       "[795 rows x 6 columns]"
      ]
     },
     "execution_count": 7,
     "metadata": {},
     "output_type": "execute_result"
    }
   ],
   "source": [
    "# Filtering \"nice\" contexts and questions\n",
    "\n",
    "# Context has only one '.' symbol \n",
    "sub_df = df.loc[df['context'].isin(list(filter(lambda x: x.count('.') == 1, df['context'].unique()))), :]\n",
    "\n",
    "# Question has only one '?' symbol\n",
    "sub_df = sub_df.loc[sub_df['question'].apply(lambda x: x.count('?')) == 1, :]\n",
    "\n",
    "# Handcrafted feature (?): Context should has at least 1 impossible question and at lest 4 possible questions\n",
    "count_df = sub_df.groupby('context').agg({'is_impossible': ['sum', 'count']})\n",
    "nice_cont = count_df.loc[(count_df['is_impossible']['sum'] >= 1) & (count_df['is_impossible']['count'] - count_df['is_impossible']['sum'] >= 4) , :].index\n",
    "print(len(nice_cont))\n",
    "\n",
    "# Filter such \"nice\" contexts\n",
    "nice_df = df.loc[df['context'].isin(nice_cont), :]\n",
    "nice_df"
   ]
  },
  {
   "cell_type": "code",
   "execution_count": 8,
   "metadata": {},
   "outputs": [
    {
     "data": {
      "text/plain": [
       "?    792\n",
       ".      1\n",
       "e      1\n",
       "g      1\n",
       "Name: question, dtype: int64"
      ]
     },
     "execution_count": 8,
     "metadata": {},
     "output_type": "execute_result"
    }
   ],
   "source": [
    "nice_df['question'].apply(lambda s: s.strip()[-1]).value_counts()"
   ]
  },
  {
   "cell_type": "code",
   "execution_count": null,
   "metadata": {},
   "outputs": [],
   "source": []
  },
  {
   "cell_type": "code",
   "execution_count": null,
   "metadata": {},
   "outputs": [],
   "source": []
  },
  {
   "cell_type": "code",
   "execution_count": null,
   "metadata": {},
   "outputs": [],
   "source": []
  },
  {
   "cell_type": "markdown",
   "metadata": {},
   "source": [
    "### Metric\n",
    "\n",
    "Cosine Similarity:\n",
    "$$CosSim(x, y) = \\frac{x \\cdot y}{\\|x\\|_2 \\cdot \\|y\\|_2 }, \\quad CosSim(x, y) \\in [-1, 1]$$\n",
    "\n",
    "Normed Cosine Similarity:\n",
    "$$NormCosSim(x,y) = \\frac{CosSim(x, y) + 1}{2}, \\quad NormCosSim(x,y) \\in [0, 1]$$\n",
    "\n",
    "Triplet Cosine Similarity:\n",
    "$$TriCos(a, p, n) = NormCosSim(a, p) - NormCosSim(a, n), \\quad TriCos(a, p, n) \\in [-1, 1],$$\n",
    "where $a$ – anchor, $p$ – positive sample, $n$ – negative sample."
   ]
  },
  {
   "cell_type": "code",
   "execution_count": 9,
   "metadata": {},
   "outputs": [],
   "source": [
    "def normed_cosine_sim(a, b, dim=-1):\n",
    "    res = torch.nn.CosineSimilarity(dim)(a, b)\n",
    "    res = (res + 1) / 2\n",
    "    return res\n",
    "\n",
    "def triplet_cosine(anch, pos, neg, dim=-1):\n",
    "    \"\"\"\n",
    "        RANGE = [-1, 1]\n",
    "    \"\"\"\n",
    "    a_p = normed_cosine_sim(anch, pos, dim)\n",
    "    a_n = normed_cosine_sim(anch, neg, dim)\n",
    "    return a_p - a_n"
   ]
  },
  {
   "cell_type": "markdown",
   "metadata": {},
   "source": [
    "### Query-Query\n",
    "\n",
    "![](./imgs/raw_qa.jpeg)"
   ]
  },
  {
   "cell_type": "code",
   "execution_count": 10,
   "metadata": {},
   "outputs": [
    {
     "data": {
      "application/vnd.jupyter.widget-view+json": {
       "model_id": "a886284652e04cdb9dda760fd6159ddc",
       "version_major": 2,
       "version_minor": 0
      },
      "text/plain": [
       "  0%|          | 0/86 [00:00<?, ?it/s]"
      ]
     },
     "metadata": {},
     "output_type": "display_data"
    },
    {
     "data": {
      "text/plain": [
       "torch.Size([86, 32, 32])"
      ]
     },
     "execution_count": 10,
     "metadata": {},
     "output_type": "execute_result"
    }
   ],
   "source": [
    "from sklearn.model_selection import LeaveOneOut\n",
    "from itertools import product\n",
    "from tqdm.notebook import tqdm\n",
    "\n",
    "all_losses = []\n",
    "for curr_df in tqdm(nice_df.groupby('context')):\n",
    "    curr_df = curr_df[1]\n",
    "    pos_qa = curr_df.loc[~curr_df['is_impossible'], 'question'].to_list()\n",
    "    impos_qa = curr_df.loc[curr_df['is_impossible'], 'question'].to_list()  \n",
    "\n",
    "    stacked_pos = torch.stack([ret_queries(qa)[:, :, -1, :] for qa in pos_qa], dim=2)\n",
    "    stacked_impos = torch.stack([ret_queries(qa)[:, :, -1, :] for qa in impos_qa], dim=2)\n",
    "\n",
    "    loo = LeaveOneOut()\n",
    "\n",
    "# avr-pos, 1 anchor,  3 neg \n",
    "    curr_triples = []\n",
    "    for (train_idx, test_idx), impos_idx in product(loo.split(pos_qa), range(len(impos_qa))):\n",
    "        # print(train_idx, test_idx, impos_idx)\n",
    "        curr_anch = stacked_pos.index_select(2, torch.tensor(train_idx).cuda())\n",
    "        curr_anch = curr_anch.mean(2)\n",
    "        curr_pos = stacked_pos[:, :, test_idx[0], :]\n",
    "        curr_neg = stacked_impos[:, :, impos_idx, :]\n",
    "\n",
    "        # print(curr_pos.shape, curr_anch.shape, curr_neg.shape)\n",
    "        loss = triplet_cosine(curr_anch, curr_pos, curr_neg)    \n",
    "        # print(loss.shape)\n",
    "        curr_triples.append(loss)\n",
    "    curr_triples = torch.stack(curr_triples, dim=0)\n",
    "    # print(curr_triples.shape)\n",
    "    \n",
    "    curr_mean_loss = curr_triples.mean(dim=0)\n",
    "    all_losses.append(curr_mean_loss)\n",
    "    \n",
    "all_losses = torch.stack(all_losses, 0)\n",
    "all_losses.shape\n",
    "    "
   ]
  },
  {
   "cell_type": "code",
   "execution_count": 11,
   "metadata": {},
   "outputs": [
    {
     "data": {
      "text/plain": [
       "torch.Size([86, 32, 32])"
      ]
     },
     "execution_count": 11,
     "metadata": {},
     "output_type": "execute_result"
    }
   ],
   "source": [
    "# dim0 = contexts, dim1 = layer, dim2 = heads\n",
    "all_losses.shape\n"
   ]
  },
  {
   "cell_type": "code",
   "execution_count": 12,
   "metadata": {},
   "outputs": [
    {
     "data": {
      "image/png": "[encoded data removed]",
      "text/plain": [
       "<Figure size 640x480 with 1 Axes>"
      ]
     },
     "metadata": {},
     "output_type": "display_data"
    }
   ],
   "source": [
    "# Hist by all context, layers and heads\n",
    "\n",
    "plt.hist(all_losses.flatten().cpu(), bins=70)\n",
    "plt.show()"
   ]
  },
  {
   "cell_type": "code",
   "execution_count": 72,
   "metadata": {},
   "outputs": [
    {
     "data": {
      "text/plain": [
       "torch.Size([32, 32])"
      ]
     },
     "execution_count": 72,
     "metadata": {},
     "output_type": "execute_result"
    }
   ],
   "source": [
    "mean_all_losses.cpu().shape"
   ]
  },
  {
   "cell_type": "code",
   "execution_count": 14,
   "metadata": {},
   "outputs": [
    {
     "data": {
      "image/png": "[encoded data removed]",
      "text/plain": [
       "<Figure size 1500x800 with 1 Axes>"
      ]
     },
     "metadata": {},
     "output_type": "display_data"
    }
   ],
   "source": [
    "mean_all_losses = all_losses.mean(dim=0)\n",
    "mean_all_losses = pd.DataFrame(mean_all_losses.cpu().numpy().T)\n",
    "plt.figure(figsize=(15,8))\n",
    "sns.boxplot(data=mean_all_losses.melt(), x='variable', y='value')\n",
    "plt.xlabel('num_layer')\n",
    "plt.ylabel('triplet metric')\n",
    "plt.grid()"
   ]
  },
  {
   "cell_type": "code",
   "execution_count": 41,
   "metadata": {},
   "outputs": [
    {
     "data": {
      "text/plain": [
       "tensor([29, 14,  3, 26, 10,  6, 18, 25, 17, 24,  0,  7, 28,  1, 30, 11,  8, 16,\n",
       "         4, 15,  9, 22, 23,  5, 31, 27, 19, 13, 20, 12, 21,  2],\n",
       "       device='cuda:0')"
      ]
     },
     "execution_count": 41,
     "metadata": {},
     "output_type": "execute_result"
    }
   ],
   "source": [
    "all_losses.mean(dim=0)[-1].argsort(descending=True)"
   ]
  },
  {
   "cell_type": "markdown",
   "metadata": {},
   "source": [
    "### Context+Query - Context+Query\n",
    "\n",
    "![](./imgs/cont.jpeg)"
   ]
  },
  {
   "cell_type": "code",
   "execution_count": 29,
   "metadata": {},
   "outputs": [
    {
     "data": {
      "application/vnd.jupyter.widget-view+json": {
       "model_id": "76bf3593efbf47c686dd32a461d7362d",
       "version_major": 2,
       "version_minor": 0
      },
      "text/plain": [
       "  0%|          | 0/86 [00:00<?, ?it/s]"
      ]
     },
     "metadata": {},
     "output_type": "display_data"
    },
    {
     "data": {
      "text/plain": [
       "torch.Size([86, 32, 32])"
      ]
     },
     "execution_count": 29,
     "metadata": {},
     "output_type": "execute_result"
    }
   ],
   "source": [
    "from sklearn.model_selection import LeaveOneOut\n",
    "from itertools import product\n",
    "from tqdm.notebook import tqdm\n",
    "\n",
    "all_losses2 = []\n",
    "for curr_df in tqdm(nice_df.groupby('context')):\n",
    "    curr_df = curr_df[1]\n",
    "    pos_qa = curr_df.loc[~curr_df['is_impossible'], 'question'].to_list()\n",
    "    pos_con = curr_df.loc[~curr_df['is_impossible'], 'context'].to_list()\n",
    "    impos_qa = curr_df.loc[curr_df['is_impossible'], 'question'].to_list()  \n",
    "    impos_con = curr_df.loc[curr_df['is_impossible'], 'context'].to_list()  \n",
    "\n",
    "    stacked_pos = torch.stack([ret_queries(f'{con} {qa}')[:, :, -1, :] for con, qa in zip(pos_con, pos_qa)], dim=2)\n",
    "    stacked_impos = torch.stack([ret_queries(f'{con} {qa}')[:, :, -1, :] for con, qa in zip(impos_con, impos_qa)], dim=2)\n",
    "\n",
    "    loo = LeaveOneOut()\n",
    "\n",
    "# avr-pos, 1 anchor,  3 neg \n",
    "    curr_triples = []\n",
    "    for (train_idx, test_idx), impos_idx in product(loo.split(pos_qa), range(len(impos_qa))):\n",
    "        # print(train_idx, test_idx, impos_idx)\n",
    "        curr_anch = stacked_pos.index_select(2, torch.tensor(train_idx).cuda())\n",
    "        curr_anch = curr_anch.mean(2)\n",
    "        curr_pos = stacked_pos[:, :, test_idx[0], :]\n",
    "        curr_neg = stacked_impos[:, :, impos_idx, :]\n",
    "\n",
    "        # print(curr_pos.shape, curr_anch.shape, curr_neg.shape)\n",
    "        loss = triplet_cosine(curr_anch, curr_pos, curr_neg)    \n",
    "        # print(loss.shape)\n",
    "        curr_triples.append(loss)\n",
    "    curr_triples = torch.stack(curr_triples, dim=0)\n",
    "    # print(curr_triples.shape)\n",
    "    \n",
    "    curr_mean_loss = curr_triples.mean(dim=0)\n",
    "    all_losses2.append(curr_mean_loss)\n",
    "    \n",
    "all_losses2 = torch.stack(all_losses2, 0)\n",
    "all_losses2.shape\n",
    "    "
   ]
  },
  {
   "cell_type": "code",
   "execution_count": 30,
   "metadata": {},
   "outputs": [
    {
     "data": {
      "image/png": "[encoded data removed]",
      "text/plain": [
       "<Figure size 640x480 with 1 Axes>"
      ]
     },
     "metadata": {},
     "output_type": "display_data"
    }
   ],
   "source": [
    "# Hist by all context, layers and heads\n",
    "\n",
    "plt.hist(all_losses2.flatten().cpu(), bins=70)\n",
    "plt.show()"
   ]
  },
  {
   "cell_type": "code",
   "execution_count": 31,
   "metadata": {},
   "outputs": [
    {
     "data": {
      "image/png": "[encoded data removed]",
      "text/plain": [
       "<Figure size 1500x800 with 1 Axes>"
      ]
     },
     "metadata": {},
     "output_type": "display_data"
    }
   ],
   "source": [
    "mean_all_losses = all_losses2.mean(dim=0)\n",
    "mean_all_losses = pd.DataFrame(mean_all_losses.cpu().numpy().T)\n",
    "plt.figure(figsize=(15,8))\n",
    "sns.boxplot(data=mean_all_losses.melt(), x='variable', y='value')\n",
    "plt.xlabel('num_layer')\n",
    "plt.ylabel('triplet metric')\n",
    "plt.grid()"
   ]
  },
  {
   "cell_type": "code",
   "execution_count": 42,
   "metadata": {},
   "outputs": [
    {
     "data": {
      "text/plain": [
       "tensor([29, 14,  3, 10, 25, 26,  7,  6,  8, 17,  1,  0,  5, 16, 24, 18, 15, 28,\n",
       "        11,  9, 21, 19, 22, 30, 13, 31, 27,  4, 12,  2, 20, 23],\n",
       "       device='cuda:0')"
      ]
     },
     "execution_count": 42,
     "metadata": {},
     "output_type": "execute_result"
    }
   ],
   "source": [
    "all_losses2.mean(dim=0)[-1].argsort(descending=True)"
   ]
  },
  {
   "cell_type": "markdown",
   "metadata": {},
   "source": [
    "### SBERT\n",
    "\n",
    "![](./imgs/sbert.jpeg)"
   ]
  },
  {
   "cell_type": "code",
   "execution_count": 92,
   "metadata": {},
   "outputs": [],
   "source": [
    "from sentence_transformers import SentenceTransformer\n",
    "\n",
    "sbert_model = SentenceTransformer(\"all-roberta-large-v1\")\n",
    "\n",
    "def sbert_run(sent):\n",
    "    sbert_model.encode(['adfad', 'aadfadf'], convert_to_numpy=False, device='cuda')"
   ]
  },
  {
   "cell_type": "code",
   "execution_count": 113,
   "metadata": {},
   "outputs": [
    {
     "data": {
      "application/vnd.jupyter.widget-view+json": {
       "model_id": "94ff3a4b2f4f488cbb56b0ce6df181f7",
       "version_major": 2,
       "version_minor": 0
      },
      "text/plain": [
       "  0%|          | 0/86 [00:00<?, ?it/s]"
      ]
     },
     "metadata": {},
     "output_type": "display_data"
    },
    {
     "data": {
      "text/plain": [
       "torch.Size([86])"
      ]
     },
     "execution_count": 113,
     "metadata": {},
     "output_type": "execute_result"
    }
   ],
   "source": [
    "from sklearn.model_selection import LeaveOneOut\n",
    "from itertools import product\n",
    "from tqdm.notebook import tqdm\n",
    "\n",
    "all_losses_sbert = []\n",
    "for curr_df in tqdm(nice_df.groupby('context')):\n",
    "    curr_df = curr_df[1]\n",
    "    pos_qa = curr_df.loc[~curr_df['is_impossible'], 'question'].to_list()\n",
    "    impos_qa = curr_df.loc[curr_df['is_impossible'], 'question'].to_list()  \n",
    "\n",
    "    stacked_pos = torch.stack(sbert_model.encode(pos_qa, convert_to_numpy=False, device='cuda'), dim=0)\n",
    "    stacked_impos = torch.stack(sbert_model.encode(impos_qa, convert_to_numpy=False, device='cuda'), dim=0)\n",
    "\n",
    "    # print(stacked_pos.shape, stacked_impos.shape)\n",
    "    loo = LeaveOneOut()\n",
    "\n",
    "# avr-pos, 1 anchor,  3 neg \n",
    "    curr_triples = []\n",
    "    for (train_idx, test_idx), impos_idx in product(loo.split(pos_qa), range(len(impos_qa))):\n",
    "        # print(train_idx, test_idx, impos_idx)\n",
    "        curr_anch = stacked_pos.index_select(0, torch.tensor(train_idx).cuda())\n",
    "        curr_anch = curr_anch.mean(0)\n",
    "        curr_pos = stacked_pos[test_idx[0], :]\n",
    "        curr_neg = stacked_impos[impos_idx, :]\n",
    "\n",
    "        # print(curr_pos.shape, curr_anch.shape, curr_neg.shape)\n",
    "        loss = triplet_cosine(curr_anch, curr_pos, curr_neg, dim=-1)    \n",
    "        # print(loss.shape)\n",
    "        curr_triples.append(loss)\n",
    "        # raise TypeError\n",
    "    curr_triples = torch.stack(curr_triples, dim=0)\n",
    "    # print(curr_triples.shape)\n",
    "    \n",
    "    curr_mean_loss = curr_triples.mean(dim=0)\n",
    "    all_losses_sbert.append(curr_mean_loss)\n",
    "    \n",
    "all_losses_sbert = torch.stack(all_losses_sbert, 0)\n",
    "all_losses_sbert.shape\n",
    "    "
   ]
  },
  {
   "cell_type": "code",
   "execution_count": 115,
   "metadata": {},
   "outputs": [
    {
     "data": {
      "text/plain": [
       "(0.008831605, 0.017942399)"
      ]
     },
     "execution_count": 115,
     "metadata": {},
     "output_type": "execute_result"
    }
   ],
   "source": [
    "all_losses_sbert = all_losses_sbert.cpu().numpy()\n",
    "np.median(all_losses_sbert), np.mean(all_losses_sbert)"
   ]
  },
  {
   "cell_type": "code",
   "execution_count": 116,
   "metadata": {},
   "outputs": [
    {
     "data": {
      "image/png": "[encoded data removed]",
      "text/plain": [
       "<Figure size 640x480 with 1 Axes>"
      ]
     },
     "metadata": {},
     "output_type": "display_data"
    }
   ],
   "source": [
    "plt.hist(all_losses_sbert, bins=20)\n",
    "plt.show()"
   ]
  },
  {
   "cell_type": "code",
   "execution_count": null,
   "metadata": {},
   "outputs": [],
   "source": []
  }
 ],
 "metadata": {
  "kernelspec": {
   "display_name": "lesya_cv",
   "language": "python",
   "name": "python3"
  },
  "language_info": {
   "codemirror_mode": {
    "name": "ipython",
    "version": 3
   },
   "file_extension": ".py",
   "mimetype": "text/x-python",
   "name": "python",
   "nbconvert_exporter": "python",
   "pygments_lexer": "ipython3",
   "version": "3.9.16"
  }
 },
 "nbformat": 4,
 "nbformat_minor": 2
}
